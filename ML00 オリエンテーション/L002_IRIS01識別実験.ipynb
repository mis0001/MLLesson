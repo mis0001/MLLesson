{
 "cells": [
  {
   "cell_type": "code",
   "execution_count": 1,
   "metadata": {
    "collapsed": true
   },
   "outputs": [],
   "source": [
    "import numpy as np\n",
    "import pandas as pd\n",
    "\n",
    "from sklearn.datasets import load_iris\n",
    "from sklearn.model_selection import ShuffleSplit\n",
    "from sklearn import linear_model"
   ]
  },
  {
   "cell_type": "code",
   "execution_count": 2,
   "metadata": {},
   "outputs": [
    {
     "data": {
      "text/html": [
       "<div>\n",
       "<style>\n",
       "    .dataframe thead tr:only-child th {\n",
       "        text-align: right;\n",
       "    }\n",
       "\n",
       "    .dataframe thead th {\n",
       "        text-align: left;\n",
       "    }\n",
       "\n",
       "    .dataframe tbody tr th {\n",
       "        vertical-align: top;\n",
       "    }\n",
       "</style>\n",
       "<table border=\"1\" class=\"dataframe\">\n",
       "  <thead>\n",
       "    <tr style=\"text-align: right;\">\n",
       "      <th></th>\n",
       "      <th>がく片の長さ</th>\n",
       "      <th>がく片の幅</th>\n",
       "      <th>花片の長さ</th>\n",
       "      <th>花片の幅</th>\n",
       "    </tr>\n",
       "  </thead>\n",
       "  <tbody>\n",
       "    <tr>\n",
       "      <th>0</th>\n",
       "      <td>5.1</td>\n",
       "      <td>3.5</td>\n",
       "      <td>1.4</td>\n",
       "      <td>0.2</td>\n",
       "    </tr>\n",
       "    <tr>\n",
       "      <th>1</th>\n",
       "      <td>4.9</td>\n",
       "      <td>3.0</td>\n",
       "      <td>1.4</td>\n",
       "      <td>0.2</td>\n",
       "    </tr>\n",
       "    <tr>\n",
       "      <th>2</th>\n",
       "      <td>4.7</td>\n",
       "      <td>3.2</td>\n",
       "      <td>1.3</td>\n",
       "      <td>0.2</td>\n",
       "    </tr>\n",
       "    <tr>\n",
       "      <th>3</th>\n",
       "      <td>4.6</td>\n",
       "      <td>3.1</td>\n",
       "      <td>1.5</td>\n",
       "      <td>0.2</td>\n",
       "    </tr>\n",
       "    <tr>\n",
       "      <th>4</th>\n",
       "      <td>5.0</td>\n",
       "      <td>3.6</td>\n",
       "      <td>1.4</td>\n",
       "      <td>0.2</td>\n",
       "    </tr>\n",
       "  </tbody>\n",
       "</table>\n",
       "</div>"
      ],
      "text/plain": [
       "   がく片の長さ  がく片の幅  花片の長さ  花片の幅\n",
       "0     5.1    3.5    1.4   0.2\n",
       "1     4.9    3.0    1.4   0.2\n",
       "2     4.7    3.2    1.3   0.2\n",
       "3     4.6    3.1    1.5   0.2\n",
       "4     5.0    3.6    1.4   0.2"
      ]
     },
     "execution_count": 2,
     "metadata": {},
     "output_type": "execute_result"
    }
   ],
   "source": [
    "# IRIS データの読み込み\n",
    "iris = load_iris()\n",
    "columns = ['がく片の長さ','がく片の幅','花片の長さ','花片の幅']\n",
    "X = pd.DataFrame(iris.data, columns = columns)\n",
    "X.head()"
   ]
  },
  {
   "cell_type": "code",
   "execution_count": 3,
   "metadata": {},
   "outputs": [
    {
     "data": {
      "text/plain": [
       "(150, 4)"
      ]
     },
     "execution_count": 3,
     "metadata": {},
     "output_type": "execute_result"
    }
   ],
   "source": [
    "iris.data.shape # データ個数×特徴数"
   ]
  },
  {
   "cell_type": "code",
   "execution_count": 4,
   "metadata": {},
   "outputs": [
    {
     "data": {
      "text/plain": [
       "がく片の長さ    5.1\n",
       "がく片の幅     3.5\n",
       "花片の長さ     1.4\n",
       "花片の幅      0.2\n",
       "Name: 0, dtype: float64"
      ]
     },
     "execution_count": 4,
     "metadata": {},
     "output_type": "execute_result"
    }
   ],
   "source": [
    "X.loc[0] # 最初のデータ（4次元ベクトル）"
   ]
  },
  {
   "cell_type": "code",
   "execution_count": 5,
   "metadata": {
    "collapsed": true
   },
   "outputs": [],
   "source": [
    "y = iris.target # .targetにラベルが入っている"
   ]
  },
  {
   "cell_type": "code",
   "execution_count": 6,
   "metadata": {},
   "outputs": [
    {
     "data": {
      "text/plain": [
       "(150,)"
      ]
     },
     "execution_count": 6,
     "metadata": {},
     "output_type": "execute_result"
    }
   ],
   "source": [
    "y.shape # データ個数"
   ]
  },
  {
   "cell_type": "code",
   "execution_count": 7,
   "metadata": {},
   "outputs": [
    {
     "data": {
      "text/plain": [
       "array([0, 0, 0, 0, 0, 0, 0, 0, 0, 0, 0, 0, 0, 0, 0, 0, 0, 0, 0, 0, 0, 0, 0,\n",
       "       0, 0, 0, 0, 0, 0, 0, 0, 0, 0, 0, 0, 0, 0, 0, 0, 0, 0, 0, 0, 0, 0, 0,\n",
       "       0, 0, 0, 0, 1, 1, 1, 1, 1, 1, 1, 1, 1, 1, 1, 1, 1, 1, 1, 1, 1, 1, 1,\n",
       "       1, 1, 1, 1, 1, 1, 1, 1, 1, 1, 1, 1, 1, 1, 1, 1, 1, 1, 1, 1, 1, 1, 1,\n",
       "       1, 1, 1, 1, 1, 1, 1, 1, 2, 2, 2, 2, 2, 2, 2, 2, 2, 2, 2, 2, 2, 2, 2,\n",
       "       2, 2, 2, 2, 2, 2, 2, 2, 2, 2, 2, 2, 2, 2, 2, 2, 2, 2, 2, 2, 2, 2, 2,\n",
       "       2, 2, 2, 2, 2, 2, 2, 2, 2, 2, 2, 2])"
      ]
     },
     "execution_count": 7,
     "metadata": {},
     "output_type": "execute_result"
    }
   ],
   "source": [
    "y"
   ]
  },
  {
   "cell_type": "code",
   "execution_count": 8,
   "metadata": {},
   "outputs": [
    {
     "data": {
      "text/plain": [
       "array(['setosa', 'versicolor', 'virginica'], \n",
       "      dtype='<U10')"
      ]
     },
     "execution_count": 8,
     "metadata": {},
     "output_type": "execute_result"
    }
   ],
   "source": [
    "iris.target_names # ラベルの意味"
   ]
  },
  {
   "cell_type": "markdown",
   "metadata": {},
   "source": [
    "[Iris flower data set @ Wikipedia](https://en.wikipedia.org/wiki/Iris_flower_data_set)\n",
    "\n",
    "\n",
    "|class|image|license|\n",
    "|------|------|--|\n",
    "| Iris setosa |<img src=\"https://upload.wikimedia.org/wikipedia/commons/5/56/Kosaciec_szczecinkowaty_Iris_setosa.jpg\" width=200> | CC BY-SA 3.0 by Radomil |\n",
    "|Iris versicolor|<img src=\"https://upload.wikimedia.org/wikipedia/commons/4/41/Iris_versicolor_3.jpg\" width=200>|CC BY-SA 3.0 by Danielle Langlois|\n",
    "|Iris virginica|<img src=\"https://upload.wikimedia.org/wikipedia/commons/thumb/9/9f/Iris_virginica.jpg/736px-Iris_virginica.jpg\" width=200>|CC BY-SA 2.0|"
   ]
  },
  {
   "cell_type": "code",
   "execution_count": 9,
   "metadata": {
    "scrolled": false
   },
   "outputs": [
    {
     "name": "stdout",
     "output_type": "stream",
     "text": [
      "Iris Plants Database\n",
      "====================\n",
      "\n",
      "Notes\n",
      "-----\n",
      "Data Set Characteristics:\n",
      "    :Number of Instances: 150 (50 in each of three classes)\n",
      "    :Number of Attributes: 4 numeric, predictive attributes and the class\n",
      "    :Attribute Information:\n",
      "        - sepal length in cm\n",
      "        - sepal width in cm\n",
      "        - petal length in cm\n",
      "        - petal width in cm\n",
      "        - class:\n",
      "                - Iris-Setosa\n",
      "                - Iris-Versicolour\n",
      "                - Iris-Virginica\n",
      "    :Summary Statistics:\n",
      "\n",
      "    ============== ==== ==== ======= ===== ====================\n",
      "                    Min  Max   Mean    SD   Class Correlation\n",
      "    ============== ==== ==== ======= ===== ====================\n",
      "    sepal length:   4.3  7.9   5.84   0.83    0.7826\n",
      "    sepal width:    2.0  4.4   3.05   0.43   -0.4194\n",
      "    petal length:   1.0  6.9   3.76   1.76    0.9490  (high!)\n",
      "    petal width:    0.1  2.5   1.20  0.76     0.9565  (high!)\n",
      "    ============== ==== ==== ======= ===== ====================\n",
      "\n",
      "    :Missing Attribute Values: None\n",
      "    :Class Distribution: 33.3% for each of 3 classes.\n",
      "    :Creator: R.A. Fisher\n",
      "    :Donor: Michael Marshall (MARSHALL%PLU@io.arc.nasa.gov)\n",
      "    :Date: July, 1988\n",
      "\n",
      "This is a copy of UCI ML iris datasets.\n",
      "http://archive.ics.uci.edu/ml/datasets/Iris\n",
      "\n",
      "The famous Iris database, first used by Sir R.A Fisher\n",
      "\n",
      "This is perhaps the best known database to be found in the\n",
      "pattern recognition literature.  Fisher's paper is a classic in the field and\n",
      "is referenced frequently to this day.  (See Duda & Hart, for example.)  The\n",
      "data set contains 3 classes of 50 instances each, where each class refers to a\n",
      "type of iris plant.  One class is linearly separable from the other 2; the\n",
      "latter are NOT linearly separable from each other.\n",
      "\n",
      "References\n",
      "----------\n",
      "   - Fisher,R.A. \"The use of multiple measurements in taxonomic problems\"\n",
      "     Annual Eugenics, 7, Part II, 179-188 (1936); also in \"Contributions to\n",
      "     Mathematical Statistics\" (John Wiley, NY, 1950).\n",
      "   - Duda,R.O., & Hart,P.E. (1973) Pattern Classification and Scene Analysis.\n",
      "     (Q327.D83) John Wiley & Sons.  ISBN 0-471-22361-1.  See page 218.\n",
      "   - Dasarathy, B.V. (1980) \"Nosing Around the Neighborhood: A New System\n",
      "     Structure and Classification Rule for Recognition in Partially Exposed\n",
      "     Environments\".  IEEE Transactions on Pattern Analysis and Machine\n",
      "     Intelligence, Vol. PAMI-2, No. 1, 67-71.\n",
      "   - Gates, G.W. (1972) \"The Reduced Nearest Neighbor Rule\".  IEEE Transactions\n",
      "     on Information Theory, May 1972, 431-433.\n",
      "   - See also: 1988 MLC Proceedings, 54-64.  Cheeseman et al\"s AUTOCLASS II\n",
      "     conceptual clustering system finds 3 classes in the data.\n",
      "   - Many, many more ...\n",
      "\n"
     ]
    }
   ],
   "source": [
    "print(iris.DESCR) # データの詳細な記述"
   ]
  },
  {
   "cell_type": "markdown",
   "metadata": {},
   "source": [
    "# 学習器を作って学習させてみよう\n",
    "その前にデータをシャッフル"
   ]
  },
  {
   "cell_type": "code",
   "execution_count": 10,
   "metadata": {
    "collapsed": true
   },
   "outputs": [],
   "source": [
    "ss = ShuffleSplit(n_splits=1,      # 分割を1個生成\n",
    "                  train_size=0.5,  # 学習は半分\n",
    "                  test_size =0.5,  # テストも半分\n",
    "                  random_state=0)  # 乱数種（再現用）"
   ]
  },
  {
   "cell_type": "code",
   "execution_count": 11,
   "metadata": {},
   "outputs": [
    {
     "data": {
      "text/plain": [
       "(array([  3, 149,  98,   6,  68, 109,  96,  12, 102, 120, 104, 128,  46,\n",
       "         11, 110, 124,  41, 148,   1, 113, 139,  42,   4, 129,  17,  38,\n",
       "          5,  53, 143, 105,   0,  34,  28,  55,  75,  35,  23,  74,  31,\n",
       "        118,  57, 131,  65,  32, 138,  14, 122,  19,  29, 130,  49, 136,\n",
       "         99,  82,  79, 115, 145,  72,  77,  25,  81, 140, 142,  39,  58,\n",
       "         88,  70,  87,  36,  21,   9, 103,  67, 117,  47]),\n",
       " array([114,  62,  33, 107,   7, 100,  40,  86,  76,  71, 134,  51,  73,\n",
       "         54,  63,  37,  78,  90,  45,  16, 121,  66,  24,   8, 126,  22,\n",
       "         44,  97,  93,  26, 137,  84,  27, 127, 132,  59,  18,  83,  61,\n",
       "         92, 112,   2, 141,  43,  10,  60, 116, 144, 119, 108,  69, 135,\n",
       "         56,  80, 123, 133, 106, 146,  50, 147,  85,  30, 101,  94,  64,\n",
       "         89,  91, 125,  48,  13, 111,  95,  20,  15,  52]))"
      ]
     },
     "execution_count": 11,
     "metadata": {},
     "output_type": "execute_result"
    }
   ],
   "source": [
    "# 学習データとテストデータのインデックスを作成\n",
    "train_index, test_index = next(ss.split(X))\n",
    "train_index, test_index"
   ]
  },
  {
   "cell_type": "code",
   "execution_count": 12,
   "metadata": {},
   "outputs": [
    {
     "data": {
      "text/plain": [
       "(array([0, 2, 1, 0, 1, 2, 1, 0, 2, 2, 2, 2, 0, 0, 2, 2, 0, 2, 0, 2, 2, 0, 0,\n",
       "        2, 0, 0, 0, 1, 2, 2, 0, 0, 0, 1, 1, 0, 0, 1, 0, 2, 1, 2, 1, 0, 2, 0,\n",
       "        2, 0, 0, 2, 0, 2, 1, 1, 1, 2, 2, 1, 1, 0, 1, 2, 2, 0, 1, 1, 1, 1, 0,\n",
       "        0, 0, 2, 1, 2, 0]),\n",
       " array([2, 1, 0, 2, 0, 2, 0, 1, 1, 1, 2, 1, 1, 1, 1, 0, 1, 1, 0, 0, 2, 1, 0,\n",
       "        0, 2, 0, 0, 1, 1, 0, 2, 1, 0, 2, 2, 1, 0, 1, 1, 1, 2, 0, 2, 0, 0, 1,\n",
       "        2, 2, 2, 2, 1, 2, 1, 1, 2, 2, 2, 2, 1, 2, 1, 0, 2, 1, 1, 1, 1, 2, 0,\n",
       "        0, 2, 1, 0, 0, 1]))"
      ]
     },
     "execution_count": 12,
     "metadata": {},
     "output_type": "execute_result"
    }
   ],
   "source": [
    "X_train, X_test = X.iloc[train_index], X.iloc[test_index] # 学習データ，テストデータ\n",
    "y_train, y_test = y[train_index], y[test_index] # 学習データのラベル，テストデータのラベル\n",
    "y_train,y_test"
   ]
  },
  {
   "cell_type": "markdown",
   "metadata": {},
   "source": [
    "# シャッフルされて偏りがないことに注意せよ"
   ]
  },
  {
   "cell_type": "markdown",
   "metadata": {},
   "source": [
    "# 線型回帰識別器"
   ]
  },
  {
   "cell_type": "code",
   "execution_count": 13,
   "metadata": {
    "collapsed": true
   },
   "outputs": [],
   "source": [
    "# 線形モデルを準備\n",
    "from sklearn import linear_model\n",
    "# 識別器を作成\n",
    "clf = linear_model.LogisticRegression()"
   ]
  },
  {
   "cell_type": "code",
   "execution_count": 14,
   "metadata": {},
   "outputs": [
    {
     "data": {
      "text/plain": [
       "LogisticRegression(C=1.0, class_weight=None, dual=False, fit_intercept=True,\n",
       "          intercept_scaling=1, max_iter=100, multi_class='ovr', n_jobs=1,\n",
       "          penalty='l2', random_state=None, solver='liblinear', tol=0.0001,\n",
       "          verbose=0, warm_start=False)"
      ]
     },
     "execution_count": 14,
     "metadata": {},
     "output_type": "execute_result"
    }
   ],
   "source": [
    "clf"
   ]
  },
  {
   "cell_type": "code",
   "execution_count": 15,
   "metadata": {
    "collapsed": true,
    "scrolled": false
   },
   "outputs": [],
   "source": [
    "clf.fit(X_train, y_train); # 識別器の学習"
   ]
  },
  {
   "cell_type": "code",
   "execution_count": 16,
   "metadata": {},
   "outputs": [
    {
     "name": "stdout",
     "output_type": "stream",
     "text": [
      "0.92\n"
     ]
    }
   ],
   "source": [
    "print(clf.score(X_train, y_train)) # 学習データの精度"
   ]
  },
  {
   "cell_type": "code",
   "execution_count": 17,
   "metadata": {},
   "outputs": [
    {
     "name": "stdout",
     "output_type": "stream",
     "text": [
      "0.84\n"
     ]
    }
   ],
   "source": [
    "print(clf.score(X_test, y_test)) # テストデータの精度"
   ]
  },
  {
   "cell_type": "markdown",
   "metadata": {},
   "source": [
    "１回だけではたまたまの結果なのかもしれないので、１０回試してみる"
   ]
  },
  {
   "cell_type": "code",
   "execution_count": 18,
   "metadata": {},
   "outputs": [
    {
     "name": "stdout",
     "output_type": "stream",
     "text": [
      "[ 0.84        0.93333333  0.90666667  1.          0.90666667  0.93333333\n",
      "  0.94666667  1.          0.90666667  0.88      ]\n"
     ]
    }
   ],
   "source": [
    "ss = ShuffleSplit(n_splits=10,     # 分割を10個生成\n",
    "                  train_size=0.5,  # 学習は半分\n",
    "                  test_size =0.5,  # テストも半分\n",
    "                  random_state=0)  # 乱数種（再現用）\n",
    "\n",
    "scores = []\n",
    "for train_index, test_index in ss.split(X): # 学習データとテストデータのインデックスを作成\n",
    "    \n",
    "    X_train, X_test = X.iloc[train_index], X.iloc[test_index] # 学習データ，テストデータ\n",
    "    y_train, y_test = y[train_index], y[test_index] # 学習データのラベル，テストデータのラベル\n",
    "\n",
    "    clf.fit(X_train, y_train)         # 識別器の学習\n",
    "    score = clf.score(X_test, y_test) # テストデータの精度\n",
    "    scores.append(score)\n",
    "\n",
    "scores = np.array(scores)\n",
    "print(scores)"
   ]
  },
  {
   "cell_type": "code",
   "execution_count": 19,
   "metadata": {},
   "outputs": [
    {
     "data": {
      "text/plain": [
       "0.92533333333333334"
      ]
     },
     "execution_count": 19,
     "metadata": {},
     "output_type": "execute_result"
    }
   ],
   "source": [
    "scores.mean() # 正解率の平均値を求める。"
   ]
  },
  {
   "cell_type": "code",
   "execution_count": 20,
   "metadata": {},
   "outputs": [
    {
     "data": {
      "text/plain": [
       "0.047027178902795737"
      ]
     },
     "execution_count": 20,
     "metadata": {},
     "output_type": "execute_result"
    }
   ],
   "source": [
    "scores.std() # 正解率の標準偏差"
   ]
  },
  {
   "cell_type": "code",
   "execution_count": 21,
   "metadata": {
    "scrolled": false,
    "slideshow": {
     "slide_type": "slide"
    }
   },
   "outputs": [
    {
     "name": "stdout",
     "output_type": "stream",
     "text": [
      "識別実験結果　認識率　0.9253333333333333 +/- 0.04702717890279574\n"
     ]
    }
   ],
   "source": [
    "print(\"識別実験結果　認識率　{0} +/- {1}\".format(scores.mean(), scores.std()))"
   ]
  },
  {
   "cell_type": "code",
   "execution_count": 22,
   "metadata": {
    "collapsed": true
   },
   "outputs": [],
   "source": [
    "# matplotlibの準備\n",
    "import matplotlib.pyplot as plt\n",
    "%matplotlib inline"
   ]
  },
  {
   "cell_type": "markdown",
   "metadata": {},
   "source": [
    "# 学習データの分量を0.1, 0.2, ..., 0.9と変えて実験してみる\n"
   ]
  },
  {
   "cell_type": "code",
   "execution_count": 23,
   "metadata": {
    "collapsed": true
   },
   "outputs": [],
   "source": [
    "train_sizes = np.arange(0.1, 1.0, 0.1)"
   ]
  },
  {
   "cell_type": "code",
   "execution_count": 24,
   "metadata": {},
   "outputs": [
    {
     "name": "stdout",
     "output_type": "stream",
     "text": [
      "train_size 10%: 75.72 +/- 10.71 %\n",
      "train_size 20%: 84.51 +/- 8.80 %\n",
      "train_size 30%: 89.56 +/- 6.87 %\n",
      "train_size 40%: 91.46 +/- 5.02 %\n",
      "train_size 50%: 93.17 +/- 3.86 %\n",
      "train_size 60%: 94.38 +/- 3.77 %\n",
      "train_size 70%: 93.73 +/- 3.62 %\n",
      "train_size 80%: 95.30 +/- 4.27 %\n",
      "train_size 90%: 95.33 +/- 4.85 %\n"
     ]
    }
   ],
   "source": [
    "all_mean = []\n",
    "all_std  = []\n",
    "\n",
    "for train_size in train_sizes: #  ループを回る毎に学習に用いる割合を増やして繰り返す\n",
    "\n",
    "    ss = ShuffleSplit(n_splits=100,\n",
    "                      train_size=train_size,     \n",
    "                      test_size=1-train_size)\n",
    "\n",
    "    scores = []\n",
    "    for train_index, test_index in ss.split(X):\n",
    "\n",
    "        X_train, X_test = X.iloc[train_index], X.iloc[test_index]\n",
    "        y_train, y_test = y[train_index], y[test_index]\n",
    "\n",
    "        clf.fit(X_train, y_train)\n",
    "        score = clf.score(X_test, y_test)\n",
    "        scores.append(score)\n",
    "\n",
    "    scores = np.array(scores)\n",
    "    print(\"train_size {0:.0f}%: {1:4.2f} +/- {2:4.2f} %\".format(train_size    * 100, \n",
    "                                                                scores.mean() * 100, \n",
    "                                                                scores.std()  * 100))\n",
    "    all_mean.append(scores.mean() * 100)\n",
    "    all_std.append(scores.std() * 100)"
   ]
  },
  {
   "cell_type": "markdown",
   "metadata": {
    "collapsed": true
   },
   "source": [
    "# グラフ化する"
   ]
  },
  {
   "cell_type": "code",
   "execution_count": 26,
   "metadata": {},
   "outputs": [
    {
     "data": {
      "text/plain": [
       "[<matplotlib.lines.Line2D at 0x265e6ae25c0>]"
      ]
     },
     "execution_count": 26,
     "metadata": {},
     "output_type": "execute_result"
    },
    {
     "data": {
      "image/png": "[encoded data removed]",
      "text/plain": [
       "<matplotlib.figure.Figure at 0x265e671ef98>"
      ]
     },
     "metadata": {},
     "output_type": "display_data"
    }
   ],
   "source": [
    "plt.plot(train_sizes, all_mean) #  学習データの割合に対する平均認識率"
   ]
  },
  {
   "cell_type": "code",
   "execution_count": 27,
   "metadata": {},
   "outputs": [
    {
     "data": {
      "text/plain": [
       "(0, 1)"
      ]
     },
     "execution_count": 27,
     "metadata": {},
     "output_type": "execute_result"
    },
    {
     "data": {
      "image/png": "[encoded data removed]",
      "text/plain": [
       "<matplotlib.figure.Figure at 0x265e6b27c50>"
      ]
     },
     "metadata": {},
     "output_type": "display_data"
    }
   ],
   "source": [
    "plt.plot(train_sizes, all_mean)  #  学習データの割合に対する平均認識率\n",
    "plt.ylim(70,100)\n",
    "plt.xlim(0,1)"
   ]
  },
  {
   "cell_type": "code",
   "execution_count": 28,
   "metadata": {},
   "outputs": [
    {
     "data": {
      "text/plain": [
       "<matplotlib.text.Text at 0x265e6be8978>"
      ]
     },
     "execution_count": 28,
     "metadata": {},
     "output_type": "execute_result"
    },
    {
     "data": {
      "image/png": "[encoded data removed]",
      "text/plain": [
       "<matplotlib.figure.Figure at 0x265e6b6cf60>"
      ]
     },
     "metadata": {},
     "output_type": "display_data"
    }
   ],
   "source": [
    "plt.plot(train_sizes, all_mean)\n",
    "plt.ylim(70,100)\n",
    "plt.xlim(0,1)\n",
    "plt.errorbar(train_sizes, all_mean, yerr=all_std)\n",
    "plt.xlabel(\"training size [%]\")\n",
    "plt.ylabel(\"recognition rate\")\n",
    "plt.title(\"Average of 10 hold-out tests for different training size\")"
   ]
  },
  {
   "cell_type": "markdown",
   "metadata": {
    "collapsed": true
   },
   "source": [
    "# 課題\n",
    "ML00 で出てきた他の識別器を使って同じ実験を試し、識別性能を比較せよ。"
   ]
  },
  {
   "cell_type": "code",
   "execution_count": 30,
   "metadata": {},
   "outputs": [
    {
     "name": "stdout",
     "output_type": "stream",
     "text": [
      "train_size 10%: 88.34 +/- 7.25 %\n",
      "train_size 20%: 92.45 +/- 4.59 %\n",
      "train_size 30%: 94.04 +/- 2.97 %\n",
      "train_size 40%: 94.64 +/- 2.75 %\n",
      "train_size 50%: 94.80 +/- 2.18 %\n",
      "train_size 60%: 94.78 +/- 2.60 %\n",
      "train_size 70%: 95.20 +/- 3.12 %\n",
      "train_size 80%: 94.80 +/- 3.92 %\n",
      "train_size 90%: 95.53 +/- 5.58 %\n"
     ]
    }
   ],
   "source": [
    "from sklearn import svm\n",
    "# オブジェクト作成\n",
    "clf = svm.LinearSVC(C=1)\n",
    "#clf = svm.LinearSVC(C=1)\n",
    "\n",
    "all_mean = []\n",
    "all_std  = []\n",
    "\n",
    "for train_size in train_sizes: #  ループを回る毎に学習に用いる割合を増やして繰り返す\n",
    "\n",
    "    ss = ShuffleSplit(n_splits=100,\n",
    "                      train_size=train_size,     \n",
    "                      test_size=1-train_size)\n",
    "\n",
    "    scores = []\n",
    "    for train_index, test_index in ss.split(X):\n",
    "\n",
    "        X_train, X_test = X.iloc[train_index], X.iloc[test_index]\n",
    "        y_train, y_test = y[train_index], y[test_index]\n",
    "\n",
    "        clf.fit(X_train, y_train)\n",
    "        score = clf.score(X_test, y_test)\n",
    "        scores.append(score)\n",
    "\n",
    "    scores = np.array(scores)\n",
    "    print(\"train_size {0:.0f}%: {1:4.2f} +/- {2:4.2f} %\".format(train_size    * 100, \n",
    "                                                                scores.mean() * 100, \n",
    "                                                                scores.std()  * 100))\n",
    "    all_mean.append(scores.mean() * 100)\n",
    "    all_std.append(scores.std() * 100)"
   ]
  },
  {
   "cell_type": "code",
   "execution_count": 31,
   "metadata": {},
   "outputs": [
    {
     "data": {
      "text/plain": [
       "<matplotlib.text.Text at 0x265e7c343c8>"
      ]
     },
     "execution_count": 31,
     "metadata": {},
     "output_type": "execute_result"
    },
    {
     "data": {
      "image/png": "[encoded data removed]",
      "text/plain": [
       "<matplotlib.figure.Figure at 0x265e6c26358>"
      ]
     },
     "metadata": {},
     "output_type": "display_data"
    }
   ],
   "source": [
    "plt.plot(train_sizes, all_mean)\n",
    "plt.ylim(70,100)\n",
    "plt.xlim(0,1)\n",
    "plt.errorbar(train_sizes, all_mean, yerr=all_std)\n",
    "plt.xlabel(\"training size [%]\")\n",
    "plt.ylabel(\"recognition rate\")\n",
    "plt.title(\"Average of 10 hold-out tests for different training size\")"
   ]
  },
  {
   "cell_type": "code",
   "execution_count": null,
   "metadata": {
    "collapsed": true
   },
   "outputs": [],
   "source": []
  }
 ],
 "metadata": {
  "anaconda-cloud": {},
  "kernelspec": {
   "display_name": "Python 3",
   "language": "python",
   "name": "python3"
  },
  "language_info": {
   "codemirror_mode": {
    "name": "ipython",
    "version": 3
   },
   "file_extension": ".py",
   "mimetype": "text/x-python",
   "name": "python",
   "nbconvert_exporter": "python",
   "pygments_lexer": "ipython3",
   "version": "3.5.3"
  }
 },
 "nbformat": 4,
 "nbformat_minor": 1
}
