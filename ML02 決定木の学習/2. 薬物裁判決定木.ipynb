{
 "cells": [
  {
   "cell_type": "markdown",
   "metadata": {},
   "source": [
    "### 準備\n",
    "\n",
    "このプログラムではグラフ表示のために **graphviz** というツールを使っていますので、実行に先立って graphviz を使えるようにするための作業が必要です。その内容は、「[Windows10 で Graphviz を使うための設定](http://localhost:8888/notebooks/ML02%20%E6%B1%BA%E5%AE%9A%E6%9C%A8%E3%81%AE%E5%AD%A6%E7%BF%92/Windows10%20%E3%81%A6%E3%82%99%20Graphviz%20%E3%82%92%E4%BD%BF%E3%81%86%E3%81%9F%E3%82%81%E3%81%AE%E8%A8%AD%E5%AE%9A.ipynb)」に書いてありますので、先にそちらを済ませて下さい。\n"
   ]
  },
  {
   "cell_type": "code",
   "execution_count": 1,
   "metadata": {
    "collapsed": true
   },
   "outputs": [],
   "source": [
    "# !pip install graphviz  \n",
    "# !pip install pydotplus "
   ]
  },
  {
   "cell_type": "code",
   "execution_count": 2,
   "metadata": {
    "collapsed": true
   },
   "outputs": [],
   "source": [
    "# モジュールのインポート\n",
    "import pandas as pd\n",
    "from sklearn import tree\n",
    "from sklearn.externals.six import StringIO\n",
    "from graphviz import Digraph\n",
    "import pydotplus\n",
    "import matplotlib.pyplot as plt\n",
    "import matplotlib.image as mpimg\n",
    "from  PIL import Image,ImageDraw,ImageFont\n",
    "import numpy as np\n",
    "from IPython.display import display\n",
    "\n",
    "FONTPATH = \"C:\\\\Windows\\\\Fonts\\\\meiryo.ttc\"  # for Windows\n",
    "# FONTPATH = '/Library/Fonts/SFNSText.ttf'  # for Macintosh"
   ]
  },
  {
   "cell_type": "markdown",
   "metadata": {},
   "source": [
    "# 識別対象データ"
   ]
  },
  {
   "cell_type": "code",
   "execution_count": 4,
   "metadata": {},
   "outputs": [
    {
     "data": {
      "text/html": [
       "<div>\n",
       "<style>\n",
       "    .dataframe thead tr:only-child th {\n",
       "        text-align: right;\n",
       "    }\n",
       "\n",
       "    .dataframe thead th {\n",
       "        text-align: left;\n",
       "    }\n",
       "\n",
       "    .dataframe tbody tr th {\n",
       "        vertical-align: top;\n",
       "    }\n",
       "</style>\n",
       "<table border=\"1\" class=\"dataframe\">\n",
       "  <thead>\n",
       "    <tr style=\"text-align: right;\">\n",
       "      <th></th>\n",
       "      <th>性別</th>\n",
       "      <th>年齢</th>\n",
       "      <th>薬物</th>\n",
       "      <th>犯罪歴</th>\n",
       "      <th>実判決</th>\n",
       "      <th>判定結果</th>\n",
       "    </tr>\n",
       "  </thead>\n",
       "  <tbody>\n",
       "    <tr>\n",
       "      <th>0</th>\n",
       "      <td>0</td>\n",
       "      <td>0</td>\n",
       "      <td>0</td>\n",
       "      <td>0</td>\n",
       "      <td>なし</td>\n",
       "      <td>None</td>\n",
       "    </tr>\n",
       "    <tr>\n",
       "      <th>1</th>\n",
       "      <td>1</td>\n",
       "      <td>0</td>\n",
       "      <td>0</td>\n",
       "      <td>0</td>\n",
       "      <td>なし</td>\n",
       "      <td>None</td>\n",
       "    </tr>\n",
       "    <tr>\n",
       "      <th>2</th>\n",
       "      <td>0</td>\n",
       "      <td>2</td>\n",
       "      <td>1</td>\n",
       "      <td>0</td>\n",
       "      <td>なし</td>\n",
       "      <td>None</td>\n",
       "    </tr>\n",
       "    <tr>\n",
       "      <th>3</th>\n",
       "      <td>0</td>\n",
       "      <td>0</td>\n",
       "      <td>0</td>\n",
       "      <td>1</td>\n",
       "      <td>あり</td>\n",
       "      <td>None</td>\n",
       "    </tr>\n",
       "    <tr>\n",
       "      <th>4</th>\n",
       "      <td>0</td>\n",
       "      <td>2</td>\n",
       "      <td>1</td>\n",
       "      <td>1</td>\n",
       "      <td>あり</td>\n",
       "      <td>None</td>\n",
       "    </tr>\n",
       "    <tr>\n",
       "      <th>5</th>\n",
       "      <td>1</td>\n",
       "      <td>1</td>\n",
       "      <td>2</td>\n",
       "      <td>1</td>\n",
       "      <td>あり</td>\n",
       "      <td>None</td>\n",
       "    </tr>\n",
       "    <tr>\n",
       "      <th>6</th>\n",
       "      <td>1</td>\n",
       "      <td>1</td>\n",
       "      <td>0</td>\n",
       "      <td>1</td>\n",
       "      <td>あり</td>\n",
       "      <td>None</td>\n",
       "    </tr>\n",
       "    <tr>\n",
       "      <th>7</th>\n",
       "      <td>1</td>\n",
       "      <td>0</td>\n",
       "      <td>2</td>\n",
       "      <td>1</td>\n",
       "      <td>あり</td>\n",
       "      <td>None</td>\n",
       "    </tr>\n",
       "    <tr>\n",
       "      <th>8</th>\n",
       "      <td>0</td>\n",
       "      <td>2</td>\n",
       "      <td>2</td>\n",
       "      <td>0</td>\n",
       "      <td>あり</td>\n",
       "      <td>None</td>\n",
       "    </tr>\n",
       "    <tr>\n",
       "      <th>9</th>\n",
       "      <td>1</td>\n",
       "      <td>0</td>\n",
       "      <td>2</td>\n",
       "      <td>1</td>\n",
       "      <td>あり</td>\n",
       "      <td>None</td>\n",
       "    </tr>\n",
       "  </tbody>\n",
       "</table>\n",
       "</div>"
      ],
      "text/plain": [
       "  性別 年齢 薬物 犯罪歴 実判決  判定結果\n",
       "0  0  0  0   0  なし  None\n",
       "1  1  0  0   0  なし  None\n",
       "2  0  2  1   0  なし  None\n",
       "3  0  0  0   1  あり  None\n",
       "4  0  2  1   1  あり  None\n",
       "5  1  1  2   1  あり  None\n",
       "6  1  1  0   1  あり  None\n",
       "7  1  0  2   1  あり  None\n",
       "8  0  2  2   0  あり  None\n",
       "9  1  0  2   1  あり  None"
      ]
     },
     "execution_count": 4,
     "metadata": {},
     "output_type": "execute_result"
    }
   ],
   "source": [
    "faces=np.array([\n",
    "    # ５つの成分の意味\n",
    "    # 第0成分: 性別　　０:男性、1:女性\n",
    "    # 第1成分: 年齢 0:未成年、1:成年、2:老人\n",
    "    # 第2成分: 薬物　　０:シンナー、1:大麻　　２：覚せい剤\n",
    "    # 第3成分: 犯罪歴　0:なし、1:あり\n",
    "    # 第4成分: 実刑の有無　　0:なし、1:あり\n",
    "    [0,0,0,0,\"なし\"],\n",
    "    [1,0,0,0,\"なし\"],\n",
    "    [0,2,1,0,\"なし\"],\n",
    "    [0,0,0,1,\"あり\"],\n",
    "    [0,2,1,1,\"あり\"],\n",
    "    [1,1,2,1,\"あり\"],\n",
    "    [1,1,0,1,\"あり\"],\n",
    "    [1,0,2,1,\"あり\"],\n",
    "    [0,2,2,0,\"あり\"],\n",
    "    [1,0,2,1,\"あり\"]\n",
    "    ])\n",
    "\n",
    "items1=['性別','年齢','薬物','犯罪歴']\n",
    "items2=['実判決','判定結果']\n",
    "dummy=np.array([None]*10)\n",
    "ｄｆ = pd.DataFrame(np.c_[faces,dummy],columns=np.r_[items1,items2])\n",
    "ｄｆ"
   ]
  },
  {
   "cell_type": "markdown",
   "metadata": {},
   "source": [
    "# 決定木の生成プログラム"
   ]
  },
  {
   "cell_type": "markdown",
   "metadata": {},
   "source": [
    "# 決定木の準備"
   ]
  },
  {
   "cell_type": "code",
   "execution_count": 5,
   "metadata": {
    "collapsed": true
   },
   "outputs": [],
   "source": [
    "classifier = tree.DecisionTreeClassifier(criterion='entropy') # default の criterion は gini"
   ]
  },
  {
   "cell_type": "markdown",
   "metadata": {},
   "source": [
    "# 訓練データをもとに決定木を構成する\n"
   ]
  },
  {
   "cell_type": "code",
   "execution_count": 6,
   "metadata": {
    "collapsed": true
   },
   "outputs": [],
   "source": [
    "classifier.fit(ｄｆ[items1],ｄｆ['実判決']);"
   ]
  },
  {
   "cell_type": "markdown",
   "metadata": {},
   "source": [
    "# 完成した決定木をpng画像として出力"
   ]
  },
  {
   "cell_type": "code",
   "execution_count": 7,
   "metadata": {
    "collapsed": true
   },
   "outputs": [],
   "source": [
    "dot_data = StringIO() # 仮想テキストファイル\n",
    "tree.export_graphviz(classifier, out_file=dot_data) # 決定木の描画用データ dot_data を生成する\n",
    "dot_text = dot_data.getvalue() # dot_data を文字列として取り出し， X[_] を表見出しに使っている言葉で置換"
   ]
  },
  {
   "cell_type": "markdown",
   "metadata": {},
   "source": [
    "上のプログラムは生成された決定木をグラフ記述言語 Dot　による記述に変換するプログラムである。  \n",
    "その記述は分岐基準が X[0]、X[1]という風に記号化されているので、それを言葉に置き換える。"
   ]
  },
  {
   "cell_type": "code",
   "execution_count": 8,
   "metadata": {},
   "outputs": [
    {
     "data": {
      "text/plain": [
       "'digraph Tree {\\nnode [shape=box] ;\\n0 [label=\"犯罪歴 <= 0.5\\\\nentropy = 0.8813\\\\nsamples = 10\\\\nvalue = [7, 3]\"] ;\\n1 [label=\"薬物 <= 1.5\\\\nentropy = 0.8113\\\\nsamples = 4\\\\nvalue = [1, 3]\"] ;\\n0 -> 1 [labeldistance=2.5, labelangle=45, headlabel=\"True\"] ;\\n2 [label=\"entropy = 0.0\\\\nsamples = 3\\\\nvalue = [0, 3]\"] ;\\n1 -> 2 ;\\n3 [label=\"entropy = 0.0\\\\nsamples = 1\\\\nvalue = [1, 0]\"] ;\\n1 -> 3 ;\\n4 [label=\"entropy = 0.0\\\\nsamples = 6\\\\nvalue = [6, 0]\"] ;\\n0 -> 4 [labeldistance=2.5, labelangle=-45, headlabel=\"False\"] ;\\n}'"
      ]
     },
     "execution_count": 8,
     "metadata": {},
     "output_type": "execute_result"
    }
   ],
   "source": [
    "for i in range(len(items1)):\n",
    "    dot_text = dot_text.replace('X[{}]'.format(i),items1[i])\n",
    "dot_text"
   ]
  },
  {
   "cell_type": "markdown",
   "metadata": {},
   "source": [
    "上に表示されているのがDot 記述である。インデントをつけて清書するともう少し分かりやすくなるが、それでもごちゃごちゃしているので Graphviz を使ってダイアグラム化する。"
   ]
  },
  {
   "cell_type": "code",
   "execution_count": 9,
   "metadata": {},
   "outputs": [
    {
     "data": {
      "image/svg+xml": [
       "<?xml version=\"1.0\" encoding=\"UTF-8\" standalone=\"no\"?>\r\n",
       "<!DOCTYPE svg PUBLIC \"-//W3C//DTD SVG 1.1//EN\"\r\n",
       " \"http://www.w3.org/Graphics/SVG/1.1/DTD/svg11.dtd\">\r\n",
       "<!-- Generated by graphviz version 2.38.0 (20140413.2041)\r\n",
       " -->\r\n",
       "<!-- Title: Tree Pages: 1 -->\r\n",
       "<svg width=\"276pt\" height=\"269pt\"\r\n",
       " viewBox=\"0.00 0.00 276.00 269.00\" xmlns=\"http://www.w3.org/2000/svg\" xmlns:xlink=\"http://www.w3.org/1999/xlink\">\r\n",
       "<g id=\"graph0\" class=\"graph\" transform=\"scale(1 1) rotate(0) translate(4 265)\">\r\n",
       "<title>Tree</title>\r\n",
       "<polygon fill=\"white\" stroke=\"none\" points=\"-4,4 -4,-265 272,-265 272,4 -4,4\"/>\r\n",
       "<!-- 0 -->\r\n",
       "<g id=\"node1\" class=\"node\"><title>0</title>\r\n",
       "<polygon fill=\"none\" stroke=\"black\" points=\"217.5,-261 104.5,-261 104.5,-193 217.5,-193 217.5,-261\"/>\r\n",
       "<text text-anchor=\"middle\" x=\"161\" y=\"-245.8\" font-family=\"Times New Roman,serif\" font-size=\"14.00\">犯罪歴 &lt;= 0.5</text>\r\n",
       "<text text-anchor=\"middle\" x=\"161\" y=\"-230.8\" font-family=\"Times New Roman,serif\" font-size=\"14.00\">entropy = 0.8813</text>\r\n",
       "<text text-anchor=\"middle\" x=\"161\" y=\"-215.8\" font-family=\"Times New Roman,serif\" font-size=\"14.00\">samples = 10</text>\r\n",
       "<text text-anchor=\"middle\" x=\"161\" y=\"-200.8\" font-family=\"Times New Roman,serif\" font-size=\"14.00\">value = [7, 3]</text>\r\n",
       "</g>\r\n",
       "<!-- 1 -->\r\n",
       "<g id=\"node2\" class=\"node\"><title>1</title>\r\n",
       "<polygon fill=\"none\" stroke=\"black\" points=\"157.5,-157 44.5,-157 44.5,-89 157.5,-89 157.5,-157\"/>\r\n",
       "<text text-anchor=\"middle\" x=\"101\" y=\"-141.8\" font-family=\"Times New Roman,serif\" font-size=\"14.00\">薬物 &lt;= 1.5</text>\r\n",
       "<text text-anchor=\"middle\" x=\"101\" y=\"-126.8\" font-family=\"Times New Roman,serif\" font-size=\"14.00\">entropy = 0.8113</text>\r\n",
       "<text text-anchor=\"middle\" x=\"101\" y=\"-111.8\" font-family=\"Times New Roman,serif\" font-size=\"14.00\">samples = 4</text>\r\n",
       "<text text-anchor=\"middle\" x=\"101\" y=\"-96.8\" font-family=\"Times New Roman,serif\" font-size=\"14.00\">value = [1, 3]</text>\r\n",
       "</g>\r\n",
       "<!-- 0&#45;&gt;1 -->\r\n",
       "<g id=\"edge1\" class=\"edge\"><title>0&#45;&gt;1</title>\r\n",
       "<path fill=\"none\" stroke=\"black\" d=\"M141.52,-192.884C136.49,-184.332 131.008,-175.013 125.748,-166.072\"/>\r\n",
       "<polygon fill=\"black\" stroke=\"black\" points=\"128.675,-164.144 120.588,-157.299 122.641,-167.693 128.675,-164.144\"/>\r\n",
       "<text text-anchor=\"middle\" x=\"114.314\" y=\"-177.799\" font-family=\"Times New Roman,serif\" font-size=\"14.00\">True</text>\r\n",
       "</g>\r\n",
       "<!-- 4 -->\r\n",
       "<g id=\"node5\" class=\"node\"><title>4</title>\r\n",
       "<polygon fill=\"none\" stroke=\"black\" points=\"268,-149.5 176,-149.5 176,-96.5 268,-96.5 268,-149.5\"/>\r\n",
       "<text text-anchor=\"middle\" x=\"222\" y=\"-134.3\" font-family=\"Times New Roman,serif\" font-size=\"14.00\">entropy = 0.0</text>\r\n",
       "<text text-anchor=\"middle\" x=\"222\" y=\"-119.3\" font-family=\"Times New Roman,serif\" font-size=\"14.00\">samples = 6</text>\r\n",
       "<text text-anchor=\"middle\" x=\"222\" y=\"-104.3\" font-family=\"Times New Roman,serif\" font-size=\"14.00\">value = [6, 0]</text>\r\n",
       "</g>\r\n",
       "<!-- 0&#45;&gt;4 -->\r\n",
       "<g id=\"edge4\" class=\"edge\"><title>0&#45;&gt;4</title>\r\n",
       "<path fill=\"none\" stroke=\"black\" d=\"M180.805,-192.884C187.448,-181.776 194.866,-169.372 201.557,-158.184\"/>\r\n",
       "<polygon fill=\"black\" stroke=\"black\" points=\"204.609,-159.899 206.738,-149.52 198.602,-156.306 204.609,-159.899\"/>\r\n",
       "<text text-anchor=\"middle\" x=\"212.836\" y=\"-170.065\" font-family=\"Times New Roman,serif\" font-size=\"14.00\">False</text>\r\n",
       "</g>\r\n",
       "<!-- 2 -->\r\n",
       "<g id=\"node3\" class=\"node\"><title>2</title>\r\n",
       "<polygon fill=\"none\" stroke=\"black\" points=\"92,-53 0,-53 0,-0 92,-0 92,-53\"/>\r\n",
       "<text text-anchor=\"middle\" x=\"46\" y=\"-37.8\" font-family=\"Times New Roman,serif\" font-size=\"14.00\">entropy = 0.0</text>\r\n",
       "<text text-anchor=\"middle\" x=\"46\" y=\"-22.8\" font-family=\"Times New Roman,serif\" font-size=\"14.00\">samples = 3</text>\r\n",
       "<text text-anchor=\"middle\" x=\"46\" y=\"-7.8\" font-family=\"Times New Roman,serif\" font-size=\"14.00\">value = [0, 3]</text>\r\n",
       "</g>\r\n",
       "<!-- 1&#45;&gt;2 -->\r\n",
       "<g id=\"edge2\" class=\"edge\"><title>1&#45;&gt;2</title>\r\n",
       "<path fill=\"none\" stroke=\"black\" d=\"M81.7637,-88.9485C76.7056,-80.2579 71.2365,-70.8608 66.1328,-62.0917\"/>\r\n",
       "<polygon fill=\"black\" stroke=\"black\" points=\"69.0342,-60.1189 60.979,-53.2367 62.9843,-63.6401 69.0342,-60.1189\"/>\r\n",
       "</g>\r\n",
       "<!-- 3 -->\r\n",
       "<g id=\"node4\" class=\"node\"><title>3</title>\r\n",
       "<polygon fill=\"none\" stroke=\"black\" points=\"202,-53 110,-53 110,-0 202,-0 202,-53\"/>\r\n",
       "<text text-anchor=\"middle\" x=\"156\" y=\"-37.8\" font-family=\"Times New Roman,serif\" font-size=\"14.00\">entropy = 0.0</text>\r\n",
       "<text text-anchor=\"middle\" x=\"156\" y=\"-22.8\" font-family=\"Times New Roman,serif\" font-size=\"14.00\">samples = 1</text>\r\n",
       "<text text-anchor=\"middle\" x=\"156\" y=\"-7.8\" font-family=\"Times New Roman,serif\" font-size=\"14.00\">value = [1, 0]</text>\r\n",
       "</g>\r\n",
       "<!-- 1&#45;&gt;3 -->\r\n",
       "<g id=\"edge3\" class=\"edge\"><title>1&#45;&gt;3</title>\r\n",
       "<path fill=\"none\" stroke=\"black\" d=\"M120.236,-88.9485C125.294,-80.2579 130.764,-70.8608 135.867,-62.0917\"/>\r\n",
       "<polygon fill=\"black\" stroke=\"black\" points=\"139.016,-63.6401 141.021,-53.2367 132.966,-60.1189 139.016,-63.6401\"/>\r\n",
       "</g>\r\n",
       "</g>\r\n",
       "</svg>\r\n"
      ],
      "text/plain": [
       "<graphviz.files.Source at 0x204521f5710>"
      ]
     },
     "execution_count": 9,
     "metadata": {},
     "output_type": "execute_result"
    }
   ],
   "source": [
    "from graphviz import Source\n",
    "src = Source(dot_text)\n",
    "src.format=\"png\"\n",
    "src.render(\"fyakubutsu.png\")\n",
    "src"
   ]
  },
  {
   "cell_type": "markdown",
   "metadata": {},
   "source": [
    "薬物は3種あるが、**tree.DecisionTreeClassifier** は2分木しかつくれないので、薬物の部分は 1.5 以下と 1.5 以上という分岐になっている。項目は 0,1,2 なので、0 or 1 と 2 つまり、（シンナーと大麻）か（覚醒剤）かという分岐を意味する。"
   ]
  },
  {
   "cell_type": "markdown",
   "metadata": {},
   "source": [
    "# 全判定結果"
   ]
  },
  {
   "cell_type": "code",
   "execution_count": 10,
   "metadata": {},
   "outputs": [
    {
     "data": {
      "text/html": [
       "<div>\n",
       "<style>\n",
       "    .dataframe thead tr:only-child th {\n",
       "        text-align: right;\n",
       "    }\n",
       "\n",
       "    .dataframe thead th {\n",
       "        text-align: left;\n",
       "    }\n",
       "\n",
       "    .dataframe tbody tr th {\n",
       "        vertical-align: top;\n",
       "    }\n",
       "</style>\n",
       "<table border=\"1\" class=\"dataframe\">\n",
       "  <thead>\n",
       "    <tr style=\"text-align: right;\">\n",
       "      <th></th>\n",
       "      <th>性別</th>\n",
       "      <th>年齢</th>\n",
       "      <th>薬物</th>\n",
       "      <th>犯罪歴</th>\n",
       "      <th>実判決</th>\n",
       "      <th>判定結果</th>\n",
       "    </tr>\n",
       "  </thead>\n",
       "  <tbody>\n",
       "    <tr>\n",
       "      <th>0</th>\n",
       "      <td>0</td>\n",
       "      <td>0</td>\n",
       "      <td>0</td>\n",
       "      <td>0</td>\n",
       "      <td>なし</td>\n",
       "      <td>なし</td>\n",
       "    </tr>\n",
       "    <tr>\n",
       "      <th>1</th>\n",
       "      <td>1</td>\n",
       "      <td>0</td>\n",
       "      <td>0</td>\n",
       "      <td>0</td>\n",
       "      <td>なし</td>\n",
       "      <td>なし</td>\n",
       "    </tr>\n",
       "    <tr>\n",
       "      <th>2</th>\n",
       "      <td>0</td>\n",
       "      <td>2</td>\n",
       "      <td>1</td>\n",
       "      <td>0</td>\n",
       "      <td>なし</td>\n",
       "      <td>なし</td>\n",
       "    </tr>\n",
       "    <tr>\n",
       "      <th>3</th>\n",
       "      <td>0</td>\n",
       "      <td>0</td>\n",
       "      <td>0</td>\n",
       "      <td>1</td>\n",
       "      <td>あり</td>\n",
       "      <td>あり</td>\n",
       "    </tr>\n",
       "    <tr>\n",
       "      <th>4</th>\n",
       "      <td>0</td>\n",
       "      <td>2</td>\n",
       "      <td>1</td>\n",
       "      <td>1</td>\n",
       "      <td>あり</td>\n",
       "      <td>あり</td>\n",
       "    </tr>\n",
       "    <tr>\n",
       "      <th>5</th>\n",
       "      <td>1</td>\n",
       "      <td>1</td>\n",
       "      <td>2</td>\n",
       "      <td>1</td>\n",
       "      <td>あり</td>\n",
       "      <td>あり</td>\n",
       "    </tr>\n",
       "    <tr>\n",
       "      <th>6</th>\n",
       "      <td>1</td>\n",
       "      <td>1</td>\n",
       "      <td>0</td>\n",
       "      <td>1</td>\n",
       "      <td>あり</td>\n",
       "      <td>あり</td>\n",
       "    </tr>\n",
       "    <tr>\n",
       "      <th>7</th>\n",
       "      <td>1</td>\n",
       "      <td>0</td>\n",
       "      <td>2</td>\n",
       "      <td>1</td>\n",
       "      <td>あり</td>\n",
       "      <td>あり</td>\n",
       "    </tr>\n",
       "    <tr>\n",
       "      <th>8</th>\n",
       "      <td>0</td>\n",
       "      <td>2</td>\n",
       "      <td>2</td>\n",
       "      <td>0</td>\n",
       "      <td>あり</td>\n",
       "      <td>あり</td>\n",
       "    </tr>\n",
       "    <tr>\n",
       "      <th>9</th>\n",
       "      <td>1</td>\n",
       "      <td>0</td>\n",
       "      <td>2</td>\n",
       "      <td>1</td>\n",
       "      <td>あり</td>\n",
       "      <td>あり</td>\n",
       "    </tr>\n",
       "  </tbody>\n",
       "</table>\n",
       "</div>"
      ],
      "text/plain": [
       "  性別 年齢 薬物 犯罪歴 実判決 判定結果\n",
       "0  0  0  0   0  なし   なし\n",
       "1  1  0  0   0  なし   なし\n",
       "2  0  2  1   0  なし   なし\n",
       "3  0  0  0   1  あり   あり\n",
       "4  0  2  1   1  あり   あり\n",
       "5  1  1  2   1  あり   あり\n",
       "6  1  1  0   1  あり   あり\n",
       "7  1  0  2   1  あり   あり\n",
       "8  0  2  2   0  あり   あり\n",
       "9  1  0  2   1  あり   あり"
      ]
     },
     "execution_count": 10,
     "metadata": {},
     "output_type": "execute_result"
    }
   ],
   "source": [
    "ｄｆ['判定結果']=classifier.predict(ｄｆ[items1])\n",
    "ｄｆ"
   ]
  },
  {
   "cell_type": "code",
   "execution_count": 11,
   "metadata": {},
   "outputs": [
    {
     "name": "stdout",
     "output_type": "stream",
     "text": [
      "正解率 100.00　％\n"
     ]
    }
   ],
   "source": [
    "print(\"正解率 {:3.2f}　％\".format((ｄｆ['実判決'] != ｄｆ['判定結果']).value_counts()[False]*100/10))"
   ]
  },
  {
   "cell_type": "code",
   "execution_count": null,
   "metadata": {
    "collapsed": true
   },
   "outputs": [],
   "source": []
  }
 ],
 "metadata": {
  "kernelspec": {
   "display_name": "Python 3",
   "language": "python",
   "name": "python3"
  },
  "language_info": {
   "codemirror_mode": {
    "name": "ipython",
    "version": 3
   },
   "file_extension": ".py",
   "mimetype": "text/x-python",
   "name": "python",
   "nbconvert_exporter": "python",
   "pygments_lexer": "ipython3",
   "version": "3.5.3"
  }
 },
 "nbformat": 4,
 "nbformat_minor": 2
}
