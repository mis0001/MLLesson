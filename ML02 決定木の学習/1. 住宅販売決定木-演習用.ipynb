{
 "cells": [
  {
   "cell_type": "markdown",
   "metadata": {},
   "source": [
    "### 準備\n",
    "\n",
    "このプログラムではグラフ表示のために **graphviz** というツールを使っていますので、実行に先立って graphviz を使えるようにするための作業が必要です。その内容は、「[Windows10 で Graphviz を使うための設定](http://localhost:8888/notebooks/ML02%20%E6%B1%BA%E5%AE%9A%E6%9C%A8%E3%81%AE%E5%AD%A6%E7%BF%92/Windows10%20%E3%81%A6%E3%82%99%20Graphviz%20%E3%82%92%E4%BD%BF%E3%81%86%E3%81%9F%E3%82%81%E3%81%AE%E8%A8%AD%E5%AE%9A.ipynb)」に書いてありますので、先にそちらを済ませて下さい。\n"
   ]
  },
  {
   "cell_type": "code",
   "execution_count": 1,
   "metadata": {
    "collapsed": true
   },
   "outputs": [],
   "source": [
    "# !pip install graphviz  \n",
    "# !pip install pydotplus "
   ]
  },
  {
   "cell_type": "code",
   "execution_count": 2,
   "metadata": {
    "collapsed": true
   },
   "outputs": [],
   "source": [
    "# モジュールのインポート\n",
    "import pandas as pd\n",
    "from sklearn import tree\n",
    "from sklearn.externals.six import StringIO\n",
    "from graphviz import Digraph\n",
    "import pydotplus\n",
    "import matplotlib.pyplot as plt\n",
    "import matplotlib.image as mpimg\n",
    "from  PIL import Image,ImageDraw,ImageFont\n",
    "import numpy as np\n",
    "from IPython.display import display\n",
    "\n",
    "FONTPATH = \"C:\\\\Windows\\\\Fonts\\\\meiryo.ttc\"  # for Windows\n",
    "# FONTPATH = '/Library/Fonts/SFNSText.ttf'  # for Macintosh"
   ]
  },
  {
   "cell_type": "markdown",
   "metadata": {},
   "source": [
    "![2017-09-23 18 27 59](https://user-images.githubusercontent.com/5820803/30771930-0fbc20de-a08d-11e7-922a-6e8e641170f4.PNG)\n",
    "\n",
    "決定木作成の対象となる表を Excel で作り、データを含む部分を図のように選択してクリップボードにコピーして次のブロックを実行する。  \n",
    "次のブロックのプログラムは クリップボード内のデータを取り込んで python で扱えるデータに変換するプログラムである。 \n",
    "結果が df に代入され、プログラムで扱えるようになる。"
   ]
  },
  {
   "cell_type": "code",
   "execution_count": 36,
   "metadata": {},
   "outputs": [
    {
     "data": {
      "text/html": [
       "<div>\n",
       "<style>\n",
       "    .dataframe thead tr:only-child th {\n",
       "        text-align: right;\n",
       "    }\n",
       "\n",
       "    .dataframe thead th {\n",
       "        text-align: left;\n",
       "    }\n",
       "\n",
       "    .dataframe tbody tr th {\n",
       "        vertical-align: top;\n",
       "    }\n",
       "</style>\n",
       "<table border=\"1\" class=\"dataframe\">\n",
       "  <thead>\n",
       "    <tr style=\"text-align: right;\">\n",
       "      <th></th>\n",
       "      <th>顧客番号</th>\n",
       "      <th>住居形態</th>\n",
       "      <th>家族構成</th>\n",
       "      <th>収入</th>\n",
       "      <th>ローン残</th>\n",
       "      <th>販売実績</th>\n",
       "      <th>判定結果</th>\n",
       "    </tr>\n",
       "  </thead>\n",
       "  <tbody>\n",
       "    <tr>\n",
       "      <th>0</th>\n",
       "      <td>1</td>\n",
       "      <td>0</td>\n",
       "      <td>0</td>\n",
       "      <td>0</td>\n",
       "      <td>1</td>\n",
       "      <td>×</td>\n",
       "      <td>NaN</td>\n",
       "    </tr>\n",
       "    <tr>\n",
       "      <th>1</th>\n",
       "      <td>2</td>\n",
       "      <td>1</td>\n",
       "      <td>2</td>\n",
       "      <td>1</td>\n",
       "      <td>1</td>\n",
       "      <td>×</td>\n",
       "      <td>NaN</td>\n",
       "    </tr>\n",
       "    <tr>\n",
       "      <th>2</th>\n",
       "      <td>5</td>\n",
       "      <td>1</td>\n",
       "      <td>1</td>\n",
       "      <td>0</td>\n",
       "      <td>1</td>\n",
       "      <td>×</td>\n",
       "      <td>NaN</td>\n",
       "    </tr>\n",
       "    <tr>\n",
       "      <th>3</th>\n",
       "      <td>6</td>\n",
       "      <td>0</td>\n",
       "      <td>0</td>\n",
       "      <td>1</td>\n",
       "      <td>1</td>\n",
       "      <td>×</td>\n",
       "      <td>NaN</td>\n",
       "    </tr>\n",
       "    <tr>\n",
       "      <th>4</th>\n",
       "      <td>3</td>\n",
       "      <td>0</td>\n",
       "      <td>2</td>\n",
       "      <td>1</td>\n",
       "      <td>0</td>\n",
       "      <td>○</td>\n",
       "      <td>NaN</td>\n",
       "    </tr>\n",
       "    <tr>\n",
       "      <th>5</th>\n",
       "      <td>4</td>\n",
       "      <td>0</td>\n",
       "      <td>1</td>\n",
       "      <td>1</td>\n",
       "      <td>0</td>\n",
       "      <td>○</td>\n",
       "      <td>NaN</td>\n",
       "    </tr>\n",
       "    <tr>\n",
       "      <th>6</th>\n",
       "      <td>7</td>\n",
       "      <td>0</td>\n",
       "      <td>2</td>\n",
       "      <td>0</td>\n",
       "      <td>0</td>\n",
       "      <td>×</td>\n",
       "      <td>NaN</td>\n",
       "    </tr>\n",
       "    <tr>\n",
       "      <th>7</th>\n",
       "      <td>8</td>\n",
       "      <td>1</td>\n",
       "      <td>2</td>\n",
       "      <td>1</td>\n",
       "      <td>0</td>\n",
       "      <td>○</td>\n",
       "      <td>NaN</td>\n",
       "    </tr>\n",
       "  </tbody>\n",
       "</table>\n",
       "</div>"
      ],
      "text/plain": [
       "   顧客番号  住居形態  家族構成  収入  ローン残 販売実績  判定結果\n",
       "0     1     0     0   0     1    ×   NaN\n",
       "1     2     1     2   1     1    ×   NaN\n",
       "2     5     1     1   0     1    ×   NaN\n",
       "3     6     0     0   1     1    ×   NaN\n",
       "4     3     0     2   1     0    ○   NaN\n",
       "5     4     0     1   1     0    ○   NaN\n",
       "6     7     0     2   0     0    ×   NaN\n",
       "7     8     1     2   1     0    ○   NaN"
      ]
     },
     "execution_count": 36,
     "metadata": {},
     "output_type": "execute_result"
    }
   ],
   "source": [
    "df = pd.read_clipboard()\n",
    "items1 = df.columns[1:5] # 分類に使う項目は１〜４\n",
    "df"
   ]
  },
  {
   "cell_type": "markdown",
   "metadata": {},
   "source": [
    "# 決定木の生成プログラム"
   ]
  },
  {
   "cell_type": "markdown",
   "metadata": {},
   "source": [
    "# 決定木の準備"
   ]
  },
  {
   "cell_type": "code",
   "execution_count": 53,
   "metadata": {
    "collapsed": true
   },
   "outputs": [],
   "source": [
    "classifier = tree.DecisionTreeClassifier(criterion='entropy')"
   ]
  },
  {
   "cell_type": "markdown",
   "metadata": {},
   "source": [
    "# 訓練データをもとに決定木を構成する\n"
   ]
  },
  {
   "cell_type": "code",
   "execution_count": 54,
   "metadata": {
    "collapsed": true
   },
   "outputs": [],
   "source": [
    "classifier.fit(df[items1],df['販売実績']);"
   ]
  },
  {
   "cell_type": "markdown",
   "metadata": {},
   "source": [
    "# 完成した決定木をpng画像として出力"
   ]
  },
  {
   "cell_type": "code",
   "execution_count": 55,
   "metadata": {},
   "outputs": [
    {
     "data": {
      "text/plain": [
       "'digraph Tree {\\nnode [shape=box] ;\\n0 [label=\"ローン残 <= 0.5\\\\nentropy = 0.954\\\\nsamples = 8\\\\nvalue = [5, 3]\"] ;\\n1 [label=\"収入 <= 0.5\\\\nentropy = 0.811\\\\nsamples = 4\\\\nvalue = [1, 3]\"] ;\\n0 -> 1 [labeldistance=2.5, labelangle=45, headlabel=\"True\"] ;\\n2 [label=\"entropy = 0.0\\\\nsamples = 1\\\\nvalue = [1, 0]\"] ;\\n1 -> 2 ;\\n3 [label=\"entropy = 0.0\\\\nsamples = 3\\\\nvalue = [0, 3]\"] ;\\n1 -> 3 ;\\n4 [label=\"entropy = 0.0\\\\nsamples = 4\\\\nvalue = [4, 0]\"] ;\\n0 -> 4 [labeldistance=2.5, labelangle=-45, headlabel=\"False\"] ;\\n}'"
      ]
     },
     "execution_count": 55,
     "metadata": {},
     "output_type": "execute_result"
    }
   ],
   "source": [
    "dot_data = StringIO() # 仮想テキストファイル\n",
    "tree.export_graphviz(classifier, out_file=dot_data) # 決定木の描画用データ dot_data を生成する\n",
    "dot_text = dot_data.getvalue() # dot_data を文字列として取り出し， X[_] を表見出しに使っている言葉で置換\n",
    "for i in range(len(items1)):\n",
    "    dot_text = dot_text.replace('X[{}]'.format(i),items1[i])\n",
    "dot_text"
   ]
  },
  {
   "cell_type": "code",
   "execution_count": 56,
   "metadata": {},
   "outputs": [
    {
     "data": {
      "image/svg+xml": [
       "<?xml version=\"1.0\" encoding=\"UTF-8\" standalone=\"no\"?>\n",
       "<!DOCTYPE svg PUBLIC \"-//W3C//DTD SVG 1.1//EN\"\n",
       " \"http://www.w3.org/Graphics/SVG/1.1/DTD/svg11.dtd\">\n",
       "<!-- Generated by graphviz version 2.40.1 (20161225.0304)\n",
       " -->\n",
       "<!-- Title: Tree Pages: 1 -->\n",
       "<svg width=\"271pt\" height=\"276pt\"\n",
       " viewBox=\"0.00 0.00 270.54 275.64\" xmlns=\"http://www.w3.org/2000/svg\" xmlns:xlink=\"http://www.w3.org/1999/xlink\">\n",
       "<g id=\"graph0\" class=\"graph\" transform=\"scale(1 1) rotate(0) translate(4 271.6401)\">\n",
       "<title>Tree</title>\n",
       "<polygon fill=\"#ffffff\" stroke=\"transparent\" points=\"-4,4 -4,-271.6401 266.5371,-271.6401 266.5371,4 -4,4\"/>\n",
       "<!-- 0 -->\n",
       "<g id=\"node1\" class=\"node\">\n",
       "<title>0</title>\n",
       "<polygon fill=\"none\" stroke=\"#000000\" points=\"214.4999,-267.5503 103.0372,-267.5503 103.0372,-194.9098 214.4999,-194.9098 214.4999,-267.5503\"/>\n",
       "<text text-anchor=\"middle\" x=\"158.7686\" y=\"-252.4401\" font-family=\"Times,serif\" font-size=\"14.00\" fill=\"#000000\">ローン残 &lt;= 0.5</text>\n",
       "<text text-anchor=\"middle\" x=\"158.7686\" y=\"-229.62\" font-family=\"Times,serif\" font-size=\"14.00\" fill=\"#000000\">entropy = 0.954</text>\n",
       "<text text-anchor=\"middle\" x=\"158.7686\" y=\"-215.62\" font-family=\"Times,serif\" font-size=\"14.00\" fill=\"#000000\">samples = 8</text>\n",
       "<text text-anchor=\"middle\" x=\"158.7686\" y=\"-201.62\" font-family=\"Times,serif\" font-size=\"14.00\" fill=\"#000000\">value = [5, 3]</text>\n",
       "</g>\n",
       "<!-- 1 -->\n",
       "<g id=\"node2\" class=\"node\">\n",
       "<title>1</title>\n",
       "<polygon fill=\"none\" stroke=\"#000000\" points=\"152.9176,-158.7303 48.6195,-158.7303 48.6195,-86.0898 152.9176,-86.0898 152.9176,-158.7303\"/>\n",
       "<text text-anchor=\"middle\" x=\"100.7686\" y=\"-143.62\" font-family=\"Times,serif\" font-size=\"14.00\" fill=\"#000000\">収入 &lt;= 0.5</text>\n",
       "<text text-anchor=\"middle\" x=\"100.7686\" y=\"-120.8\" font-family=\"Times,serif\" font-size=\"14.00\" fill=\"#000000\">entropy = 0.811</text>\n",
       "<text text-anchor=\"middle\" x=\"100.7686\" y=\"-106.8\" font-family=\"Times,serif\" font-size=\"14.00\" fill=\"#000000\">samples = 4</text>\n",
       "<text text-anchor=\"middle\" x=\"100.7686\" y=\"-92.8\" font-family=\"Times,serif\" font-size=\"14.00\" fill=\"#000000\">value = [1, 3]</text>\n",
       "</g>\n",
       "<!-- 0&#45;&gt;1 -->\n",
       "<g id=\"edge1\" class=\"edge\">\n",
       "<title>0&#45;&gt;1</title>\n",
       "<path fill=\"none\" stroke=\"#000000\" d=\"M139.294,-194.6918C134.751,-186.1682 129.8571,-176.9862 125.1318,-168.1206\"/>\n",
       "<polygon fill=\"#000000\" stroke=\"#000000\" points=\"128.0826,-166.2156 120.2904,-159.037 121.9053,-169.5081 128.0826,-166.2156\"/>\n",
       "<text text-anchor=\"middle\" x=\"113.005\" y=\"-178.7519\" font-family=\"Times,serif\" font-size=\"14.00\" fill=\"#000000\">True</text>\n",
       "</g>\n",
       "<!-- 4 -->\n",
       "<g id=\"node5\" class=\"node\">\n",
       "<title>4</title>\n",
       "<polygon fill=\"none\" stroke=\"#000000\" points=\"262.3068,-147.41 171.2303,-147.41 171.2303,-97.41 262.3068,-97.41 262.3068,-147.41\"/>\n",
       "<text text-anchor=\"middle\" x=\"216.7686\" y=\"-132.21\" font-family=\"Times,serif\" font-size=\"14.00\" fill=\"#000000\">entropy = 0.0</text>\n",
       "<text text-anchor=\"middle\" x=\"216.7686\" y=\"-118.21\" font-family=\"Times,serif\" font-size=\"14.00\" fill=\"#000000\">samples = 4</text>\n",
       "<text text-anchor=\"middle\" x=\"216.7686\" y=\"-104.21\" font-family=\"Times,serif\" font-size=\"14.00\" fill=\"#000000\">value = [4, 0]</text>\n",
       "</g>\n",
       "<!-- 0&#45;&gt;4 -->\n",
       "<g id=\"edge4\" class=\"edge\">\n",
       "<title>0&#45;&gt;4</title>\n",
       "<path fill=\"none\" stroke=\"#000000\" d=\"M178.2431,-194.6918C184.7992,-182.3911 192.0861,-168.7194 198.5424,-156.606\"/>\n",
       "<polygon fill=\"#000000\" stroke=\"#000000\" points=\"201.677,-158.1661 203.2919,-147.6951 195.4996,-154.8736 201.677,-158.1661\"/>\n",
       "<text text-anchor=\"middle\" x=\"210.5773\" y=\"-167.41\" font-family=\"Times,serif\" font-size=\"14.00\" fill=\"#000000\">False</text>\n",
       "</g>\n",
       "<!-- 2 -->\n",
       "<g id=\"node3\" class=\"node\">\n",
       "<title>2</title>\n",
       "<polygon fill=\"none\" stroke=\"#000000\" points=\"91.3068,-50 .2303,-50 .2303,0 91.3068,0 91.3068,-50\"/>\n",
       "<text text-anchor=\"middle\" x=\"45.7686\" y=\"-34.8\" font-family=\"Times,serif\" font-size=\"14.00\" fill=\"#000000\">entropy = 0.0</text>\n",
       "<text text-anchor=\"middle\" x=\"45.7686\" y=\"-20.8\" font-family=\"Times,serif\" font-size=\"14.00\" fill=\"#000000\">samples = 1</text>\n",
       "<text text-anchor=\"middle\" x=\"45.7686\" y=\"-6.8\" font-family=\"Times,serif\" font-size=\"14.00\" fill=\"#000000\">value = [1, 0]</text>\n",
       "</g>\n",
       "<!-- 1&#45;&gt;2 -->\n",
       "<g id=\"edge2\" class=\"edge\">\n",
       "<title>1&#45;&gt;2</title>\n",
       "<path fill=\"none\" stroke=\"#000000\" d=\"M80.1321,-85.861C75.1551,-77.0462 69.8576,-67.6639 64.9503,-58.9726\"/>\n",
       "<polygon fill=\"#000000\" stroke=\"#000000\" points=\"67.9718,-57.2051 60.0073,-50.2181 61.8763,-60.6468 67.9718,-57.2051\"/>\n",
       "</g>\n",
       "<!-- 3 -->\n",
       "<g id=\"node4\" class=\"node\">\n",
       "<title>3</title>\n",
       "<polygon fill=\"none\" stroke=\"#000000\" points=\"201.3068,-50 110.2303,-50 110.2303,0 201.3068,0 201.3068,-50\"/>\n",
       "<text text-anchor=\"middle\" x=\"155.7686\" y=\"-34.8\" font-family=\"Times,serif\" font-size=\"14.00\" fill=\"#000000\">entropy = 0.0</text>\n",
       "<text text-anchor=\"middle\" x=\"155.7686\" y=\"-20.8\" font-family=\"Times,serif\" font-size=\"14.00\" fill=\"#000000\">samples = 3</text>\n",
       "<text text-anchor=\"middle\" x=\"155.7686\" y=\"-6.8\" font-family=\"Times,serif\" font-size=\"14.00\" fill=\"#000000\">value = [0, 3]</text>\n",
       "</g>\n",
       "<!-- 1&#45;&gt;3 -->\n",
       "<g id=\"edge3\" class=\"edge\">\n",
       "<title>1&#45;&gt;3</title>\n",
       "<path fill=\"none\" stroke=\"#000000\" d=\"M121.405,-85.861C126.382,-77.0462 131.6795,-67.6639 136.5868,-58.9726\"/>\n",
       "<polygon fill=\"#000000\" stroke=\"#000000\" points=\"139.6609,-60.6468 141.5298,-50.2181 133.5654,-57.2051 139.6609,-60.6468\"/>\n",
       "</g>\n",
       "</g>\n",
       "</svg>\n"
      ],
      "text/plain": [
       "<graphviz.files.Source at 0x1103f05c0>"
      ]
     },
     "execution_count": 56,
     "metadata": {},
     "output_type": "execute_result"
    }
   ],
   "source": [
    "from graphviz import Source\n",
    "src = Source(dot_text)\n",
    "src.format=\"png\"\n",
    "src.render(\"juutaku.png\")\n",
    "src"
   ]
  },
  {
   "cell_type": "markdown",
   "metadata": {
    "collapsed": true
   },
   "source": [
    "### 解説\n",
    "既知の８ケース中、住宅形態、家族構成、収入、ローン残高の４項目のうち一つだけで決まっている可能性を考える。  \n",
    "- 「住宅形態」をチェックすると、マンション住まいの人がかならず買ってくれる、あるいは買わないということはない。一戸建ても同様である。\n",
    "- 「家族構成」では、独身は買わないようである、ということだけわかる。独身は８ケース中２ケースだから、この法則が正しいなら、1/4 は独身かどうかだけチェックしたら確定する。\n",
    "- 「収入」については、高収入の人は買ってくれることもあるが必ずそうとも限らない。低収入の人は総じて買わない。この経験的知識で判断できるケースは3/8である。\n",
    "- 「ローン残高」の場合は、残高がある人は購入してくれたないという法則が成り立ちそうである。これで判断できるのは 1/2\n",
    "\n",
    "よって、効率を考えれば、「ローン残高」を最初のチェック項目とするのがよいという結論になる。この項目で八件中四件は購入しないと予測できるので、あとは残りの４件に絞って次の判断項目を考えればよい。  \n",
    "\n",
    "残り４件も同様にしてどの項目が実績のあるなしと相関があるかを調べていけばよいのだが、次は簡単で、収入の高低と実績の有無が完全に一致しているので、２つ目の検査項目は「収入」がベストであるのは自明である。\n",
    "\n",
    "上の図では、「ローン残 <= 0.5」と表示されているが、ローン残は０か１かのデータとしているので、True はローン残が０つまり「なし」、False は「あり」を意味する。\n",
    "\n",
    "\n",
    "\n",
    "### 補足\n",
    "上の図は、次のようにしても作れる。\n",
    "```\n",
    "graph = pydotplus.graph_from_dot_data(dot_text)\n",
    "for node in graph.get_nodes():\n",
    "    node.set_fontname(\"Meiryo\")\n",
    "graph.write_png('douna.png');  #png 画像として書き出し\n",
    "```"
   ]
  },
  {
   "cell_type": "markdown",
   "metadata": {},
   "source": [
    "# 全判定結果"
   ]
  },
  {
   "cell_type": "code",
   "execution_count": 57,
   "metadata": {},
   "outputs": [
    {
     "data": {
      "text/html": [
       "<div>\n",
       "<style>\n",
       "    .dataframe thead tr:only-child th {\n",
       "        text-align: right;\n",
       "    }\n",
       "\n",
       "    .dataframe thead th {\n",
       "        text-align: left;\n",
       "    }\n",
       "\n",
       "    .dataframe tbody tr th {\n",
       "        vertical-align: top;\n",
       "    }\n",
       "</style>\n",
       "<table border=\"1\" class=\"dataframe\">\n",
       "  <thead>\n",
       "    <tr style=\"text-align: right;\">\n",
       "      <th></th>\n",
       "      <th>顧客番号</th>\n",
       "      <th>住居形態</th>\n",
       "      <th>家族構成</th>\n",
       "      <th>収入</th>\n",
       "      <th>ローン残</th>\n",
       "      <th>販売実績</th>\n",
       "      <th>判定結果</th>\n",
       "    </tr>\n",
       "  </thead>\n",
       "  <tbody>\n",
       "    <tr>\n",
       "      <th>0</th>\n",
       "      <td>1</td>\n",
       "      <td>0</td>\n",
       "      <td>0</td>\n",
       "      <td>0</td>\n",
       "      <td>1</td>\n",
       "      <td>×</td>\n",
       "      <td>×</td>\n",
       "    </tr>\n",
       "    <tr>\n",
       "      <th>1</th>\n",
       "      <td>2</td>\n",
       "      <td>1</td>\n",
       "      <td>2</td>\n",
       "      <td>1</td>\n",
       "      <td>1</td>\n",
       "      <td>×</td>\n",
       "      <td>×</td>\n",
       "    </tr>\n",
       "    <tr>\n",
       "      <th>2</th>\n",
       "      <td>5</td>\n",
       "      <td>1</td>\n",
       "      <td>1</td>\n",
       "      <td>0</td>\n",
       "      <td>1</td>\n",
       "      <td>×</td>\n",
       "      <td>×</td>\n",
       "    </tr>\n",
       "    <tr>\n",
       "      <th>3</th>\n",
       "      <td>6</td>\n",
       "      <td>0</td>\n",
       "      <td>0</td>\n",
       "      <td>1</td>\n",
       "      <td>1</td>\n",
       "      <td>×</td>\n",
       "      <td>×</td>\n",
       "    </tr>\n",
       "    <tr>\n",
       "      <th>4</th>\n",
       "      <td>3</td>\n",
       "      <td>0</td>\n",
       "      <td>2</td>\n",
       "      <td>1</td>\n",
       "      <td>0</td>\n",
       "      <td>○</td>\n",
       "      <td>○</td>\n",
       "    </tr>\n",
       "    <tr>\n",
       "      <th>5</th>\n",
       "      <td>4</td>\n",
       "      <td>0</td>\n",
       "      <td>1</td>\n",
       "      <td>1</td>\n",
       "      <td>0</td>\n",
       "      <td>○</td>\n",
       "      <td>○</td>\n",
       "    </tr>\n",
       "    <tr>\n",
       "      <th>6</th>\n",
       "      <td>7</td>\n",
       "      <td>0</td>\n",
       "      <td>2</td>\n",
       "      <td>0</td>\n",
       "      <td>0</td>\n",
       "      <td>×</td>\n",
       "      <td>×</td>\n",
       "    </tr>\n",
       "    <tr>\n",
       "      <th>7</th>\n",
       "      <td>8</td>\n",
       "      <td>1</td>\n",
       "      <td>2</td>\n",
       "      <td>1</td>\n",
       "      <td>0</td>\n",
       "      <td>○</td>\n",
       "      <td>○</td>\n",
       "    </tr>\n",
       "  </tbody>\n",
       "</table>\n",
       "</div>"
      ],
      "text/plain": [
       "   顧客番号  住居形態  家族構成  収入  ローン残 販売実績 判定結果\n",
       "0     1     0     0   0     1    ×    ×\n",
       "1     2     1     2   1     1    ×    ×\n",
       "2     5     1     1   0     1    ×    ×\n",
       "3     6     0     0   1     1    ×    ×\n",
       "4     3     0     2   1     0    ○    ○\n",
       "5     4     0     1   1     0    ○    ○\n",
       "6     7     0     2   0     0    ×    ×\n",
       "7     8     1     2   1     0    ○    ○"
      ]
     },
     "execution_count": 57,
     "metadata": {},
     "output_type": "execute_result"
    }
   ],
   "source": [
    "df['判定結果']=classifier.predict(df[items1])\n",
    "df"
   ]
  },
  {
   "cell_type": "code",
   "execution_count": 58,
   "metadata": {},
   "outputs": [
    {
     "name": "stdout",
     "output_type": "stream",
     "text": [
      "正解率 100.00　％\n"
     ]
    }
   ],
   "source": [
    "print(\"正解率 {:3.2f}　％\".format((df['販売実績'] != ｄｆ['判定結果']).value_counts()[False]*100/8))"
   ]
  },
  {
   "cell_type": "code",
   "execution_count": null,
   "metadata": {
    "collapsed": true
   },
   "outputs": [],
   "source": []
  }
 ],
 "metadata": {
  "kernelspec": {
   "display_name": "Python 3",
   "language": "python",
   "name": "python3"
  },
  "language_info": {
   "codemirror_mode": {
    "name": "ipython",
    "version": 3
   },
   "file_extension": ".py",
   "mimetype": "text/x-python",
   "name": "python",
   "nbconvert_exporter": "python",
   "pygments_lexer": "ipython3",
   "version": "3.5.3"
  }
 },
 "nbformat": 4,
 "nbformat_minor": 2
}
